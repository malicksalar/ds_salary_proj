{
 "cells": [
  {
   "cell_type": "code",
   "execution_count": 1,
   "metadata": {},
   "outputs": [],
   "source": [
    "import pandas as pd\n",
    "import matplotlib.pyplot as plt\n",
    "import seaborn as sns"
   ]
  },
  {
   "cell_type": "code",
   "execution_count": 2,
   "metadata": {},
   "outputs": [],
   "source": [
    "df = pd.read_csv('filtered.csv')"
   ]
  },
  {
   "cell_type": "code",
   "execution_count": 3,
   "metadata": {},
   "outputs": [
    {
     "data": {
      "text/html": [
       "<div>\n",
       "<style scoped>\n",
       "    .dataframe tbody tr th:only-of-type {\n",
       "        vertical-align: middle;\n",
       "    }\n",
       "\n",
       "    .dataframe tbody tr th {\n",
       "        vertical-align: top;\n",
       "    }\n",
       "\n",
       "    .dataframe thead th {\n",
       "        text-align: right;\n",
       "    }\n",
       "</style>\n",
       "<table border=\"1\" class=\"dataframe\">\n",
       "  <thead>\n",
       "    <tr style=\"text-align: right;\">\n",
       "      <th></th>\n",
       "      <th>Job Title</th>\n",
       "      <th>Salary Estimate</th>\n",
       "      <th>Job Description</th>\n",
       "      <th>Rating</th>\n",
       "      <th>Company Name</th>\n",
       "      <th>Location</th>\n",
       "      <th>Size</th>\n",
       "      <th>Founded</th>\n",
       "      <th>Type of ownership</th>\n",
       "      <th>Industry</th>\n",
       "      <th>Sector</th>\n",
       "      <th>Revenue</th>\n",
       "      <th>Min Salary</th>\n",
       "      <th>Max Salary</th>\n",
       "      <th>Average Salary</th>\n",
       "      <th>Job State</th>\n",
       "      <th>Age</th>\n",
       "      <th>Python</th>\n",
       "      <th>Spark</th>\n",
       "    </tr>\n",
       "  </thead>\n",
       "  <tbody>\n",
       "    <tr>\n",
       "      <th>0</th>\n",
       "      <td>Data Scientist 2</td>\n",
       "      <td>52 - 95</td>\n",
       "      <td>Description\\nDigital Health and Analytics with...</td>\n",
       "      <td>3.9</td>\n",
       "      <td>Humana\\n3.9</td>\n",
       "      <td>Louisville, KY</td>\n",
       "      <td>10000+ Employees</td>\n",
       "      <td>1961</td>\n",
       "      <td>Company - Public</td>\n",
       "      <td>Insurance Carriers</td>\n",
       "      <td>Insurance</td>\n",
       "      <td>$10+ billion (USD)</td>\n",
       "      <td>52</td>\n",
       "      <td>95</td>\n",
       "      <td>73.5</td>\n",
       "      <td>KY</td>\n",
       "      <td>59</td>\n",
       "      <td>1</td>\n",
       "      <td>1</td>\n",
       "    </tr>\n",
       "    <tr>\n",
       "      <th>1</th>\n",
       "      <td>Lead Data Scientist</td>\n",
       "      <td>94 - 155</td>\n",
       "      <td>Description\\nThe Lead Data Scientist uses math...</td>\n",
       "      <td>3.9</td>\n",
       "      <td>Humana\\n3.9</td>\n",
       "      <td>Boston, MA</td>\n",
       "      <td>10000+ Employees</td>\n",
       "      <td>1961</td>\n",
       "      <td>Company - Public</td>\n",
       "      <td>Insurance Carriers</td>\n",
       "      <td>Insurance</td>\n",
       "      <td>$10+ billion (USD)</td>\n",
       "      <td>94</td>\n",
       "      <td>155</td>\n",
       "      <td>124.5</td>\n",
       "      <td>MA</td>\n",
       "      <td>59</td>\n",
       "      <td>0</td>\n",
       "      <td>0</td>\n",
       "    </tr>\n",
       "    <tr>\n",
       "      <th>2</th>\n",
       "      <td>Environmental Scientist/Risk Assessor</td>\n",
       "      <td>28 - 48</td>\n",
       "      <td>The desired candidate will be located in any o...</td>\n",
       "      <td>3.8</td>\n",
       "      <td>Integral Consulting Inc.\\n3.8</td>\n",
       "      <td>Annapolis, MD</td>\n",
       "      <td>51 to 200 Employees</td>\n",
       "      <td>-1</td>\n",
       "      <td>Company - Private</td>\n",
       "      <td>Consulting</td>\n",
       "      <td>Business Services</td>\n",
       "      <td>$10 to $25 million (USD)</td>\n",
       "      <td>28</td>\n",
       "      <td>48</td>\n",
       "      <td>38.0</td>\n",
       "      <td>MD</td>\n",
       "      <td>-1</td>\n",
       "      <td>0</td>\n",
       "      <td>0</td>\n",
       "    </tr>\n",
       "    <tr>\n",
       "      <th>3</th>\n",
       "      <td>Data Analyst</td>\n",
       "      <td>47 - 87</td>\n",
       "      <td>It's fun to work in a company where people tru...</td>\n",
       "      <td>4.1</td>\n",
       "      <td>MMM Holdings\\n4.1</td>\n",
       "      <td>Orlando, FL</td>\n",
       "      <td>1001 to 5000 Employees</td>\n",
       "      <td>-1</td>\n",
       "      <td>Company - Private</td>\n",
       "      <td>Insurance Carriers</td>\n",
       "      <td>Insurance</td>\n",
       "      <td>Less than $1 million (USD)</td>\n",
       "      <td>47</td>\n",
       "      <td>87</td>\n",
       "      <td>67.0</td>\n",
       "      <td>FL</td>\n",
       "      <td>-1</td>\n",
       "      <td>0</td>\n",
       "      <td>0</td>\n",
       "    </tr>\n",
       "    <tr>\n",
       "      <th>4</th>\n",
       "      <td>Data Scientist</td>\n",
       "      <td>87 - 142</td>\n",
       "      <td>At Farm Credit Mid-America, we believe people ...</td>\n",
       "      <td>4.1</td>\n",
       "      <td>Farm Credit Mid-America\\n4.1</td>\n",
       "      <td>Louisville, KY</td>\n",
       "      <td>1001 to 5000 Employees</td>\n",
       "      <td>1985</td>\n",
       "      <td>Company - Private</td>\n",
       "      <td>Lending</td>\n",
       "      <td>Finance</td>\n",
       "      <td>$100 to $500 million (USD)</td>\n",
       "      <td>87</td>\n",
       "      <td>142</td>\n",
       "      <td>114.5</td>\n",
       "      <td>KY</td>\n",
       "      <td>35</td>\n",
       "      <td>0</td>\n",
       "      <td>0</td>\n",
       "    </tr>\n",
       "  </tbody>\n",
       "</table>\n",
       "</div>"
      ],
      "text/plain": [
       "                               Job Title Salary Estimate  \\\n",
       "0                       Data Scientist 2        52 - 95    \n",
       "1                    Lead Data Scientist       94 - 155    \n",
       "2  Environmental Scientist/Risk Assessor        28 - 48    \n",
       "3                           Data Analyst        47 - 87    \n",
       "4                         Data Scientist       87 - 142    \n",
       "\n",
       "                                     Job Description  Rating  \\\n",
       "0  Description\\nDigital Health and Analytics with...     3.9   \n",
       "1  Description\\nThe Lead Data Scientist uses math...     3.9   \n",
       "2  The desired candidate will be located in any o...     3.8   \n",
       "3  It's fun to work in a company where people tru...     4.1   \n",
       "4  At Farm Credit Mid-America, we believe people ...     4.1   \n",
       "\n",
       "                    Company Name        Location                    Size  \\\n",
       "0                    Humana\\n3.9  Louisville, KY        10000+ Employees   \n",
       "1                    Humana\\n3.9      Boston, MA        10000+ Employees   \n",
       "2  Integral Consulting Inc.\\n3.8   Annapolis, MD     51 to 200 Employees   \n",
       "3              MMM Holdings\\n4.1     Orlando, FL  1001 to 5000 Employees   \n",
       "4   Farm Credit Mid-America\\n4.1  Louisville, KY  1001 to 5000 Employees   \n",
       "\n",
       "   Founded  Type of ownership            Industry             Sector  \\\n",
       "0     1961   Company - Public  Insurance Carriers          Insurance   \n",
       "1     1961   Company - Public  Insurance Carriers          Insurance   \n",
       "2       -1  Company - Private          Consulting  Business Services   \n",
       "3       -1  Company - Private  Insurance Carriers          Insurance   \n",
       "4     1985  Company - Private             Lending            Finance   \n",
       "\n",
       "                      Revenue  Min Salary  Max Salary  Average Salary  \\\n",
       "0          $10+ billion (USD)          52          95            73.5   \n",
       "1          $10+ billion (USD)          94         155           124.5   \n",
       "2    $10 to $25 million (USD)          28          48            38.0   \n",
       "3  Less than $1 million (USD)          47          87            67.0   \n",
       "4  $100 to $500 million (USD)          87         142           114.5   \n",
       "\n",
       "  Job State  Age  Python  Spark  \n",
       "0        KY   59       1      1  \n",
       "1        MA   59       0      0  \n",
       "2        MD   -1       0      0  \n",
       "3        FL   -1       0      0  \n",
       "4        KY   35       0      0  "
      ]
     },
     "execution_count": 3,
     "metadata": {},
     "output_type": "execute_result"
    }
   ],
   "source": [
    "df.head()"
   ]
  },
  {
   "cell_type": "code",
   "execution_count": 4,
   "metadata": {},
   "outputs": [
    {
     "data": {
      "text/plain": [
       "Index(['Job Title', 'Salary Estimate', 'Job Description', 'Rating',\n",
       "       'Company Name', 'Location', 'Size', 'Founded', 'Type of ownership',\n",
       "       'Industry', 'Sector', 'Revenue', 'Min Salary', 'Max Salary',\n",
       "       'Average Salary', 'Job State', 'Age', 'Python', 'Spark'],\n",
       "      dtype='object')"
      ]
     },
     "execution_count": 4,
     "metadata": {},
     "output_type": "execute_result"
    }
   ],
   "source": [
    "df.columns"
   ]
  },
  {
   "cell_type": "code",
   "execution_count": 5,
   "metadata": {},
   "outputs": [],
   "source": [
    "def title_simplifier(title):\n",
    "    if 'data scientist' in title.lower():\n",
    "        return 'data scientist'\n",
    "    elif 'data engineer' in title.lower():\n",
    "        return 'data engineer'\n",
    "    elif 'analyst' in title.lower():\n",
    "        return 'analyst'\n",
    "    elif 'machine learning engineer' in title.lower():\n",
    "        return 'mle'\n",
    "    elif 'manager' in title.lower():\n",
    "        return 'manager'\n",
    "    elif 'director' in title.lower():\n",
    "        return 'director'\n",
    "    else:\n",
    "        return 'na'\n",
    "    \n",
    "def seniority(title):\n",
    "    if 'sr' in title.lower() or 'senior' in title.lower() or 'sr.' in title.lower() or 'lead' in title.lower() or 'principal' in title.lower():\n",
    "        return 'senior'\n",
    "    elif 'jr' in title.lower() or 'jr.' in title.lower():\n",
    "        return 'jr'\n",
    "    else:\n",
    "        return 'na'"
   ]
  },
  {
   "cell_type": "code",
   "execution_count": 7,
   "metadata": {},
   "outputs": [],
   "source": [
    "df['Job Simplified'] = df['Job Title'].apply(title_simplifier)"
   ]
  },
  {
   "cell_type": "code",
   "execution_count": 8,
   "metadata": {},
   "outputs": [
    {
     "data": {
      "text/plain": [
       "data scientist    498\n",
       "analyst            72\n",
       "na                 54\n",
       "data engineer      38\n",
       "manager             7\n",
       "director            6\n",
       "mle                 6\n",
       "Name: Job Simplified, dtype: int64"
      ]
     },
     "execution_count": 8,
     "metadata": {},
     "output_type": "execute_result"
    }
   ],
   "source": [
    "df['Job Simplified'].value_counts()"
   ]
  },
  {
   "cell_type": "code",
   "execution_count": 9,
   "metadata": {},
   "outputs": [],
   "source": [
    "df['Seniority'] = df['Job Title'].apply(seniority)"
   ]
  },
  {
   "cell_type": "code",
   "execution_count": 10,
   "metadata": {},
   "outputs": [
    {
     "data": {
      "text/plain": [
       "na        609\n",
       "senior     71\n",
       "jr          1\n",
       "Name: Seniority, dtype: int64"
      ]
     },
     "execution_count": 10,
     "metadata": {},
     "output_type": "execute_result"
    }
   ],
   "source": [
    "df['Seniority'].value_counts()"
   ]
  },
  {
   "cell_type": "code",
   "execution_count": 11,
   "metadata": {},
   "outputs": [
    {
     "data": {
      "text/plain": [
       "CA    158\n",
       "NY     82\n",
       "VA     68\n",
       "MA     59\n",
       "TX     47\n",
       "PA     33\n",
       "NJ     31\n",
       "NC     24\n",
       "AR     21\n",
       "MD     18\n",
       "LA     17\n",
       "OH     14\n",
       "WA     11\n",
       "IL     11\n",
       "GA     10\n",
       "FL     10\n",
       "DC      9\n",
       "UT      8\n",
       "WI      8\n",
       "MO      5\n",
       "NM      4\n",
       "MI      4\n",
       "MN      4\n",
       "KY      3\n",
       "CT      3\n",
       "AZ      3\n",
       "IN      3\n",
       "NE      3\n",
       "MS      2\n",
       "CO      2\n",
       "ID      2\n",
       "DE      1\n",
       "IA      1\n",
       "AL      1\n",
       "RI      1\n",
       "Name: Job State, dtype: int64"
      ]
     },
     "execution_count": 11,
     "metadata": {},
     "output_type": "execute_result"
    }
   ],
   "source": [
    "df['Job State'].value_counts()"
   ]
  },
  {
   "cell_type": "code",
   "execution_count": 12,
   "metadata": {},
   "outputs": [],
   "source": [
    "df['Description Length'] = df['Job Description'].apply(lambda x: len(x))"
   ]
  },
  {
   "cell_type": "code",
   "execution_count": 13,
   "metadata": {},
   "outputs": [
    {
     "data": {
      "text/plain": [
       "0      3525\n",
       "1      2222\n",
       "2      2648\n",
       "3      1997\n",
       "4      6569\n",
       "       ... \n",
       "676    3013\n",
       "677    5055\n",
       "678    3777\n",
       "679    1330\n",
       "680    3608\n",
       "Name: Description Length, Length: 681, dtype: int64"
      ]
     },
     "execution_count": 13,
     "metadata": {},
     "output_type": "execute_result"
    }
   ],
   "source": [
    "df['Description Length']"
   ]
  },
  {
   "cell_type": "code",
   "execution_count": 15,
   "metadata": {},
   "outputs": [],
   "source": [
    "df['Company Name'] = df['Company Name'].apply(lambda x:x.split('\\n')[0])"
   ]
  },
  {
   "cell_type": "code",
   "execution_count": 18,
   "metadata": {},
   "outputs": [
    {
     "data": {
      "text/html": [
       "<div>\n",
       "<style scoped>\n",
       "    .dataframe tbody tr th:only-of-type {\n",
       "        vertical-align: middle;\n",
       "    }\n",
       "\n",
       "    .dataframe tbody tr th {\n",
       "        vertical-align: top;\n",
       "    }\n",
       "\n",
       "    .dataframe thead th {\n",
       "        text-align: right;\n",
       "    }\n",
       "</style>\n",
       "<table border=\"1\" class=\"dataframe\">\n",
       "  <thead>\n",
       "    <tr style=\"text-align: right;\">\n",
       "      <th></th>\n",
       "      <th>Rating</th>\n",
       "      <th>Founded</th>\n",
       "      <th>Min Salary</th>\n",
       "      <th>Max Salary</th>\n",
       "      <th>Average Salary</th>\n",
       "      <th>Age</th>\n",
       "      <th>Python</th>\n",
       "      <th>Spark</th>\n",
       "      <th>Description Length</th>\n",
       "    </tr>\n",
       "  </thead>\n",
       "  <tbody>\n",
       "    <tr>\n",
       "      <th>count</th>\n",
       "      <td>681.000000</td>\n",
       "      <td>681.000000</td>\n",
       "      <td>681.000000</td>\n",
       "      <td>681.000000</td>\n",
       "      <td>681.000000</td>\n",
       "      <td>681.000000</td>\n",
       "      <td>681.000000</td>\n",
       "      <td>681.000000</td>\n",
       "      <td>681.000000</td>\n",
       "    </tr>\n",
       "    <tr>\n",
       "      <th>mean</th>\n",
       "      <td>3.746843</td>\n",
       "      <td>1858.337739</td>\n",
       "      <td>74.972100</td>\n",
       "      <td>126.198238</td>\n",
       "      <td>100.585169</td>\n",
       "      <td>42.895742</td>\n",
       "      <td>0.701909</td>\n",
       "      <td>0.286344</td>\n",
       "      <td>3868.549192</td>\n",
       "    </tr>\n",
       "    <tr>\n",
       "      <th>std</th>\n",
       "      <td>0.485883</td>\n",
       "      <td>467.419182</td>\n",
       "      <td>23.485304</td>\n",
       "      <td>34.692266</td>\n",
       "      <td>28.790025</td>\n",
       "      <td>50.496383</td>\n",
       "      <td>0.457756</td>\n",
       "      <td>0.452384</td>\n",
       "      <td>1831.939551</td>\n",
       "    </tr>\n",
       "    <tr>\n",
       "      <th>min</th>\n",
       "      <td>2.000000</td>\n",
       "      <td>-1.000000</td>\n",
       "      <td>17.000000</td>\n",
       "      <td>45.000000</td>\n",
       "      <td>35.000000</td>\n",
       "      <td>-1.000000</td>\n",
       "      <td>0.000000</td>\n",
       "      <td>0.000000</td>\n",
       "      <td>799.000000</td>\n",
       "    </tr>\n",
       "    <tr>\n",
       "      <th>25%</th>\n",
       "      <td>3.400000</td>\n",
       "      <td>1961.000000</td>\n",
       "      <td>60.000000</td>\n",
       "      <td>106.000000</td>\n",
       "      <td>83.500000</td>\n",
       "      <td>11.000000</td>\n",
       "      <td>0.000000</td>\n",
       "      <td>0.000000</td>\n",
       "      <td>2805.000000</td>\n",
       "    </tr>\n",
       "    <tr>\n",
       "      <th>50%</th>\n",
       "      <td>3.700000</td>\n",
       "      <td>1994.000000</td>\n",
       "      <td>72.000000</td>\n",
       "      <td>123.000000</td>\n",
       "      <td>98.000000</td>\n",
       "      <td>23.000000</td>\n",
       "      <td>1.000000</td>\n",
       "      <td>0.000000</td>\n",
       "      <td>3608.000000</td>\n",
       "    </tr>\n",
       "    <tr>\n",
       "      <th>75%</th>\n",
       "      <td>4.100000</td>\n",
       "      <td>2008.000000</td>\n",
       "      <td>88.000000</td>\n",
       "      <td>146.000000</td>\n",
       "      <td>117.000000</td>\n",
       "      <td>51.000000</td>\n",
       "      <td>1.000000</td>\n",
       "      <td>1.000000</td>\n",
       "      <td>4672.000000</td>\n",
       "    </tr>\n",
       "    <tr>\n",
       "      <th>max</th>\n",
       "      <td>5.000000</td>\n",
       "      <td>2020.000000</td>\n",
       "      <td>165.000000</td>\n",
       "      <td>257.000000</td>\n",
       "      <td>211.000000</td>\n",
       "      <td>190.000000</td>\n",
       "      <td>1.000000</td>\n",
       "      <td>1.000000</td>\n",
       "      <td>10277.000000</td>\n",
       "    </tr>\n",
       "  </tbody>\n",
       "</table>\n",
       "</div>"
      ],
      "text/plain": [
       "           Rating      Founded  Min Salary  Max Salary  Average Salary  \\\n",
       "count  681.000000   681.000000  681.000000  681.000000      681.000000   \n",
       "mean     3.746843  1858.337739   74.972100  126.198238      100.585169   \n",
       "std      0.485883   467.419182   23.485304   34.692266       28.790025   \n",
       "min      2.000000    -1.000000   17.000000   45.000000       35.000000   \n",
       "25%      3.400000  1961.000000   60.000000  106.000000       83.500000   \n",
       "50%      3.700000  1994.000000   72.000000  123.000000       98.000000   \n",
       "75%      4.100000  2008.000000   88.000000  146.000000      117.000000   \n",
       "max      5.000000  2020.000000  165.000000  257.000000      211.000000   \n",
       "\n",
       "              Age      Python       Spark  Description Length  \n",
       "count  681.000000  681.000000  681.000000          681.000000  \n",
       "mean    42.895742    0.701909    0.286344         3868.549192  \n",
       "std     50.496383    0.457756    0.452384         1831.939551  \n",
       "min     -1.000000    0.000000    0.000000          799.000000  \n",
       "25%     11.000000    0.000000    0.000000         2805.000000  \n",
       "50%     23.000000    1.000000    0.000000         3608.000000  \n",
       "75%     51.000000    1.000000    1.000000         4672.000000  \n",
       "max    190.000000    1.000000    1.000000        10277.000000  "
      ]
     },
     "execution_count": 18,
     "metadata": {},
     "output_type": "execute_result"
    }
   ],
   "source": [
    "df.describe()"
   ]
  },
  {
   "cell_type": "code",
   "execution_count": 21,
   "metadata": {},
   "outputs": [
    {
     "data": {
      "text/plain": [
       "<matplotlib.axes._subplots.AxesSubplot at 0x16e9e7dbc10>"
      ]
     },
     "execution_count": 21,
     "metadata": {},
     "output_type": "execute_result"
    },
    {
     "data": {
      "image/png": "[encoded data removed]",
      "text/plain": [
       "<Figure size 432x288 with 1 Axes>"
      ]
     },
     "metadata": {
      "needs_background": "light"
     },
     "output_type": "display_data"
    }
   ],
   "source": [
    "df.Rating.hist()"
   ]
  },
  {
   "cell_type": "code",
   "execution_count": 23,
   "metadata": {},
   "outputs": [
    {
     "data": {
      "text/plain": [
       "<matplotlib.axes._subplots.AxesSubplot at 0x16e9ebc3c10>"
      ]
     },
     "execution_count": 23,
     "metadata": {},
     "output_type": "execute_result"
    },
    {
     "data": {
      "image/png": "[encoded data removed]",
      "text/plain": [
       "<Figure size 432x288 with 1 Axes>"
      ]
     },
     "metadata": {
      "needs_background": "light"
     },
     "output_type": "display_data"
    }
   ],
   "source": [
    "df['Average Salary'].hist()"
   ]
  },
  {
   "cell_type": "code",
   "execution_count": 24,
   "metadata": {},
   "outputs": [
    {
     "data": {
      "text/plain": [
       "<matplotlib.axes._subplots.AxesSubplot at 0x16e9ec19c70>"
      ]
     },
     "execution_count": 24,
     "metadata": {},
     "output_type": "execute_result"
    },
    {
     "data": {
      "image/png": "[encoded data removed]",
      "text/plain": [
       "<Figure size 432x288 with 1 Axes>"
      ]
     },
     "metadata": {
      "needs_background": "light"
     },
     "output_type": "display_data"
    }
   ],
   "source": [
    "df['Age'].hist()"
   ]
  },
  {
   "cell_type": "code",
   "execution_count": 26,
   "metadata": {},
   "outputs": [
    {
     "data": {
      "text/html": [
       "<div>\n",
       "<style scoped>\n",
       "    .dataframe tbody tr th:only-of-type {\n",
       "        vertical-align: middle;\n",
       "    }\n",
       "\n",
       "    .dataframe tbody tr th {\n",
       "        vertical-align: top;\n",
       "    }\n",
       "\n",
       "    .dataframe thead th {\n",
       "        text-align: right;\n",
       "    }\n",
       "</style>\n",
       "<table border=\"1\" class=\"dataframe\">\n",
       "  <thead>\n",
       "    <tr style=\"text-align: right;\">\n",
       "      <th></th>\n",
       "      <th>Average Salary</th>\n",
       "    </tr>\n",
       "    <tr>\n",
       "      <th>Job Simplified</th>\n",
       "      <th></th>\n",
       "    </tr>\n",
       "  </thead>\n",
       "  <tbody>\n",
       "    <tr>\n",
       "      <th>analyst</th>\n",
       "      <td>67.055556</td>\n",
       "    </tr>\n",
       "    <tr>\n",
       "      <th>data engineer</th>\n",
       "      <td>103.842105</td>\n",
       "    </tr>\n",
       "    <tr>\n",
       "      <th>data scientist</th>\n",
       "      <td>106.630522</td>\n",
       "    </tr>\n",
       "    <tr>\n",
       "      <th>director</th>\n",
       "      <td>133.250000</td>\n",
       "    </tr>\n",
       "    <tr>\n",
       "      <th>manager</th>\n",
       "      <td>105.857143</td>\n",
       "    </tr>\n",
       "    <tr>\n",
       "      <th>mle</th>\n",
       "      <td>134.833333</td>\n",
       "    </tr>\n",
       "    <tr>\n",
       "      <th>na</th>\n",
       "      <td>79.129630</td>\n",
       "    </tr>\n",
       "  </tbody>\n",
       "</table>\n",
       "</div>"
      ],
      "text/plain": [
       "                Average Salary\n",
       "Job Simplified                \n",
       "analyst              67.055556\n",
       "data engineer       103.842105\n",
       "data scientist      106.630522\n",
       "director            133.250000\n",
       "manager             105.857143\n",
       "mle                 134.833333\n",
       "na                   79.129630"
      ]
     },
     "execution_count": 26,
     "metadata": {},
     "output_type": "execute_result"
    }
   ],
   "source": [
    "pd.pivot_table(df, index='Job Simplified', values='Average Salary')"
   ]
  },
  {
   "cell_type": "code",
   "execution_count": 30,
   "metadata": {},
   "outputs": [],
   "source": [
    "df.to_csv('filtered.csv', index=False)"
   ]
  },
  {
   "cell_type": "code",
   "execution_count": null,
   "metadata": {},
   "outputs": [],
   "source": []
  }
 ],
 "metadata": {
  "kernelspec": {
   "display_name": "Python 3",
   "language": "python",
   "name": "python3"
  },
  "language_info": {
   "codemirror_mode": {
    "name": "ipython",
    "version": 3
   },
   "file_extension": ".py",
   "mimetype": "text/x-python",
   "name": "python",
   "nbconvert_exporter": "python",
   "pygments_lexer": "ipython3",
   "version": "3.8.3"
  }
 },
 "nbformat": 4,
 "nbformat_minor": 4
}
